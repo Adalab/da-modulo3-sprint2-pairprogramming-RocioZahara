{
 "cells": [
  {
   "cell_type": "markdown",
   "metadata": {},
   "source": [
    "# Pair programming A/B testing"
   ]
  },
  {
   "cell_type": "code",
   "execution_count": 1,
   "metadata": {},
   "outputs": [],
   "source": [
    "# importamos las librerías que necesitamos\n",
    "\n",
    "# Tratamiento de datos\n",
    "# -----------------------------------------------------------------------\n",
    "import pandas as pd\n",
    "import numpy as np\n",
    "\n",
    "\n",
    "# Visualización\n",
    "# ------------------------------------------------------------------------------\n",
    "import matplotlib.pyplot as plt\n",
    "import seaborn as sns\n",
    "sns.set_style(\"whitegrid\") # establece el estilo del fondo de las gráficas como \"whitegrid\". Las gráficas tendrán un fondo blanco con líneas de cuadrícula horizontales y verticales.\n",
    "sns.set_theme(style=\"dark\") # cambiará el esquema de colores predeterminado de Seaborn a uno más oscuro, adecuado para gráficas con fondos claros. \n",
    "plt.style.use('Solarize_Light2')# establece el estilo en Solarize_Lihgt2. \n",
    "\n",
    "# Realizar los distintos test\n",
    "# ------------------------------------------------------------------------------\n",
    "from scipy import stats\n",
    "from scipy.stats import ttest_ind, norm, chi2_contingency, f_oneway, fligner\n",
    "from sklearn.linear_model import LinearRegression\n",
    "\n",
    "# Configuración\n",
    "# -----------------------------------------------------------------------\n",
    "pd.set_option('display.max_columns', None) # para poder visualizar todas las columnas de los DataFrames\n",
    "\n",
    "# Gestión de los warnings\n",
    "# -----------------------------------------------------------------------\n",
    "import warnings\n",
    "warnings.filterwarnings(\"ignore\")"
   ]
  },
  {
   "cell_type": "markdown",
   "metadata": {},
   "source": [
    "## Ejercicio 1:\n",
    "\n",
    "Queremos determinar si un nuevo diseño de anuncio <span style=\"color:#D4AF37\">test group \"ad\"</span> tiene un impacto significativo en la tasa de conversión en comparación con el diseño de anuncio anterior <span style=\"color:#D4AF37\">test group \"psa\"</span>."
   ]
  },
  {
   "cell_type": "markdown",
   "metadata": {},
   "source": [
    "**Objetivo del ejercicio**: \n",
    "\n",
    "Comparar las **tasas de conversión** entre los grupos de prueba \"ad\" y \"psa\" para **determinar si el nuevo diseño de anuncio es más efectivo en la conversión de usuarios**."
   ]
  },
  {
   "cell_type": "markdown",
   "metadata": {},
   "source": [
    "### 1.1 Preparación de los datos:\n",
    "Asegúrate de que los datos estén limpios y listos para el análisis. Esto incluye la eliminación de datos faltantes y la verificación de la coherencia de los datos."
   ]
  },
  {
   "cell_type": "code",
   "execution_count": 2,
   "metadata": {},
   "outputs": [
    {
     "data": {
      "text/html": [
       "<div>\n",
       "<style scoped>\n",
       "    .dataframe tbody tr th:only-of-type {\n",
       "        vertical-align: middle;\n",
       "    }\n",
       "\n",
       "    .dataframe tbody tr th {\n",
       "        vertical-align: top;\n",
       "    }\n",
       "\n",
       "    .dataframe thead th {\n",
       "        text-align: right;\n",
       "    }\n",
       "</style>\n",
       "<table border=\"1\" class=\"dataframe\">\n",
       "  <thead>\n",
       "    <tr style=\"text-align: right;\">\n",
       "      <th></th>\n",
       "      <th>user id</th>\n",
       "      <th>test group</th>\n",
       "      <th>converted</th>\n",
       "      <th>total ads</th>\n",
       "      <th>most ads day</th>\n",
       "      <th>most ads hour</th>\n",
       "    </tr>\n",
       "  </thead>\n",
       "  <tbody>\n",
       "    <tr>\n",
       "      <th>0</th>\n",
       "      <td>1069124</td>\n",
       "      <td>ad</td>\n",
       "      <td>False</td>\n",
       "      <td>130</td>\n",
       "      <td>Monday</td>\n",
       "      <td>20</td>\n",
       "    </tr>\n",
       "    <tr>\n",
       "      <th>1</th>\n",
       "      <td>1119715</td>\n",
       "      <td>ad</td>\n",
       "      <td>False</td>\n",
       "      <td>93</td>\n",
       "      <td>Tuesday</td>\n",
       "      <td>22</td>\n",
       "    </tr>\n",
       "    <tr>\n",
       "      <th>2</th>\n",
       "      <td>1144181</td>\n",
       "      <td>ad</td>\n",
       "      <td>False</td>\n",
       "      <td>21</td>\n",
       "      <td>Tuesday</td>\n",
       "      <td>18</td>\n",
       "    </tr>\n",
       "    <tr>\n",
       "      <th>3</th>\n",
       "      <td>1435133</td>\n",
       "      <td>ad</td>\n",
       "      <td>False</td>\n",
       "      <td>355</td>\n",
       "      <td>Tuesday</td>\n",
       "      <td>10</td>\n",
       "    </tr>\n",
       "    <tr>\n",
       "      <th>4</th>\n",
       "      <td>1015700</td>\n",
       "      <td>ad</td>\n",
       "      <td>False</td>\n",
       "      <td>276</td>\n",
       "      <td>Friday</td>\n",
       "      <td>14</td>\n",
       "    </tr>\n",
       "  </tbody>\n",
       "</table>\n",
       "</div>"
      ],
      "text/plain": [
       "   user id test group  converted  total ads most ads day  most ads hour\n",
       "0  1069124         ad      False        130       Monday             20\n",
       "1  1119715         ad      False         93      Tuesday             22\n",
       "2  1144181         ad      False         21      Tuesday             18\n",
       "3  1435133         ad      False        355      Tuesday             10\n",
       "4  1015700         ad      False        276       Friday             14"
      ]
     },
     "execution_count": 2,
     "metadata": {},
     "output_type": "execute_result"
    }
   ],
   "source": [
    "df = pd.read_csv(\"marketing_AB.csv\", index_col=0)\n",
    "df.head()"
   ]
  },
  {
   "cell_type": "code",
   "execution_count": 3,
   "metadata": {},
   "outputs": [
    {
     "data": {
      "text/html": [
       "<div>\n",
       "<style scoped>\n",
       "    .dataframe tbody tr th:only-of-type {\n",
       "        vertical-align: middle;\n",
       "    }\n",
       "\n",
       "    .dataframe tbody tr th {\n",
       "        vertical-align: top;\n",
       "    }\n",
       "\n",
       "    .dataframe thead th {\n",
       "        text-align: right;\n",
       "    }\n",
       "</style>\n",
       "<table border=\"1\" class=\"dataframe\">\n",
       "  <thead>\n",
       "    <tr style=\"text-align: right;\">\n",
       "      <th></th>\n",
       "      <th>user_id</th>\n",
       "      <th>test_group</th>\n",
       "      <th>converted</th>\n",
       "      <th>total_ads</th>\n",
       "      <th>most_ads_day</th>\n",
       "      <th>most_ads_hour</th>\n",
       "    </tr>\n",
       "  </thead>\n",
       "  <tbody>\n",
       "    <tr>\n",
       "      <th>0</th>\n",
       "      <td>1069124</td>\n",
       "      <td>ad</td>\n",
       "      <td>False</td>\n",
       "      <td>130</td>\n",
       "      <td>Monday</td>\n",
       "      <td>20</td>\n",
       "    </tr>\n",
       "    <tr>\n",
       "      <th>1</th>\n",
       "      <td>1119715</td>\n",
       "      <td>ad</td>\n",
       "      <td>False</td>\n",
       "      <td>93</td>\n",
       "      <td>Tuesday</td>\n",
       "      <td>22</td>\n",
       "    </tr>\n",
       "    <tr>\n",
       "      <th>2</th>\n",
       "      <td>1144181</td>\n",
       "      <td>ad</td>\n",
       "      <td>False</td>\n",
       "      <td>21</td>\n",
       "      <td>Tuesday</td>\n",
       "      <td>18</td>\n",
       "    </tr>\n",
       "    <tr>\n",
       "      <th>3</th>\n",
       "      <td>1435133</td>\n",
       "      <td>ad</td>\n",
       "      <td>False</td>\n",
       "      <td>355</td>\n",
       "      <td>Tuesday</td>\n",
       "      <td>10</td>\n",
       "    </tr>\n",
       "    <tr>\n",
       "      <th>4</th>\n",
       "      <td>1015700</td>\n",
       "      <td>ad</td>\n",
       "      <td>False</td>\n",
       "      <td>276</td>\n",
       "      <td>Friday</td>\n",
       "      <td>14</td>\n",
       "    </tr>\n",
       "  </tbody>\n",
       "</table>\n",
       "</div>"
      ],
      "text/plain": [
       "   user_id test_group  converted  total_ads most_ads_day  most_ads_hour\n",
       "0  1069124         ad      False        130       Monday             20\n",
       "1  1119715         ad      False         93      Tuesday             22\n",
       "2  1144181         ad      False         21      Tuesday             18\n",
       "3  1435133         ad      False        355      Tuesday             10\n",
       "4  1015700         ad      False        276       Friday             14"
      ]
     },
     "execution_count": 3,
     "metadata": {},
     "output_type": "execute_result"
    }
   ],
   "source": [
    "# Modifico título de columnas para que no haya espacios para mejor lectura\n",
    "columnas = [col.replace(\" \", \"_\") for col in df.columns]\n",
    "df.columns = columnas\n",
    "df.head()"
   ]
  },
  {
   "cell_type": "code",
   "execution_count": 4,
   "metadata": {},
   "outputs": [
    {
     "data": {
      "text/html": [
       "<div>\n",
       "<style scoped>\n",
       "    .dataframe tbody tr th:only-of-type {\n",
       "        vertical-align: middle;\n",
       "    }\n",
       "\n",
       "    .dataframe tbody tr th {\n",
       "        vertical-align: top;\n",
       "    }\n",
       "\n",
       "    .dataframe thead th {\n",
       "        text-align: right;\n",
       "    }\n",
       "</style>\n",
       "<table border=\"1\" class=\"dataframe\">\n",
       "  <thead>\n",
       "    <tr style=\"text-align: right;\">\n",
       "      <th></th>\n",
       "      <th>count</th>\n",
       "    </tr>\n",
       "    <tr>\n",
       "      <th>test_group</th>\n",
       "      <th></th>\n",
       "    </tr>\n",
       "  </thead>\n",
       "  <tbody>\n",
       "    <tr>\n",
       "      <th>ad</th>\n",
       "      <td>564577</td>\n",
       "    </tr>\n",
       "    <tr>\n",
       "      <th>psa</th>\n",
       "      <td>23524</td>\n",
       "    </tr>\n",
       "  </tbody>\n",
       "</table>\n",
       "</div>"
      ],
      "text/plain": [
       "             count\n",
       "test_group        \n",
       "ad          564577\n",
       "psa          23524"
      ]
     },
     "metadata": {},
     "output_type": "display_data"
    }
   ],
   "source": [
    "display(pd.DataFrame(df[\"test_group\"].value_counts()))"
   ]
  },
  {
   "cell_type": "code",
   "execution_count": 5,
   "metadata": {},
   "outputs": [],
   "source": [
    "# Crear función para exploración inicial del conjunto de datos\n",
    "\n",
    "def exploracion_dataframe(dataframe, columna_control):\n",
    "    \n",
    "    print(f\"Los duplicados que tenemos en el conjunto de datos son: {dataframe.duplicated().sum()}\")\n",
    "    print(\"-\"*100)\n",
    "\n",
    "    # generamos un DataFrame para los valores nulos\n",
    "    print(\"Los nulos que tenemos en el conjunto de datos son:\")\n",
    "    df_nulos = pd.DataFrame(dataframe.isnull().sum() / dataframe.shape[0] * 100, columns = [\"%_nulos\"])\n",
    "    display(df_nulos[df_nulos[\"%_nulos\"] > 0])\n",
    "    \n",
    "    print(\"-\"*100)\n",
    "    print(f\"Los tipos de las columnas son:\")\n",
    "    display(pd.DataFrame(dataframe.dtypes, columns = [\"tipo_dato\"]))\n",
    "    \n",
    "    \n",
    "    print(\"-\"*100)\n",
    "    print(\"Los valores que tenemos para las columnas categóricas son:\")\n",
    "    dataframe_categoricas = dataframe.select_dtypes(include = \"O\")\n",
    "    \n",
    "    for col in dataframe_categoricas.columns:\n",
    "        print(f\"\\n * La columna {col} tiene las siguientes valore únicos:\")\n",
    "        display(pd.DataFrame(dataframe[col].value_counts()))    \n",
    "    \n",
    "    # para el A/B testing sacamos estadísticas de las principales categorías\n",
    "    \n",
    "    for categoria in dataframe[columna_control].unique():\n",
    "        \n",
    "        dataframe_filtrado = dataframe[dataframe[columna_control] == categoria]\n",
    "    \n",
    "        print(\"-\"*100)\n",
    "        print(f\"Los principales estadísticos de las columnas categóricas para {categoria.upper()} son: \")\n",
    "        display(dataframe_filtrado.describe(include = \"O\").T)\n",
    "        \n",
    "        print(\"-\"*100)\n",
    "        print(f\"Los principales estadísticos de las columnas numéricas para el {categoria.upper()} son: \")\n",
    "        display(dataframe_filtrado.describe().T)"
   ]
  },
  {
   "cell_type": "code",
   "execution_count": 6,
   "metadata": {},
   "outputs": [
    {
     "name": "stdout",
     "output_type": "stream",
     "text": [
      "Los duplicados que tenemos en el conjunto de datos son: 0\n",
      "----------------------------------------------------------------------------------------------------\n",
      "Los nulos que tenemos en el conjunto de datos son:\n"
     ]
    },
    {
     "data": {
      "text/html": [
       "<div>\n",
       "<style scoped>\n",
       "    .dataframe tbody tr th:only-of-type {\n",
       "        vertical-align: middle;\n",
       "    }\n",
       "\n",
       "    .dataframe tbody tr th {\n",
       "        vertical-align: top;\n",
       "    }\n",
       "\n",
       "    .dataframe thead th {\n",
       "        text-align: right;\n",
       "    }\n",
       "</style>\n",
       "<table border=\"1\" class=\"dataframe\">\n",
       "  <thead>\n",
       "    <tr style=\"text-align: right;\">\n",
       "      <th></th>\n",
       "      <th>%_nulos</th>\n",
       "    </tr>\n",
       "  </thead>\n",
       "  <tbody>\n",
       "  </tbody>\n",
       "</table>\n",
       "</div>"
      ],
      "text/plain": [
       "Empty DataFrame\n",
       "Columns: [%_nulos]\n",
       "Index: []"
      ]
     },
     "metadata": {},
     "output_type": "display_data"
    },
    {
     "name": "stdout",
     "output_type": "stream",
     "text": [
      "----------------------------------------------------------------------------------------------------\n",
      "Los tipos de las columnas son:\n"
     ]
    },
    {
     "data": {
      "text/html": [
       "<div>\n",
       "<style scoped>\n",
       "    .dataframe tbody tr th:only-of-type {\n",
       "        vertical-align: middle;\n",
       "    }\n",
       "\n",
       "    .dataframe tbody tr th {\n",
       "        vertical-align: top;\n",
       "    }\n",
       "\n",
       "    .dataframe thead th {\n",
       "        text-align: right;\n",
       "    }\n",
       "</style>\n",
       "<table border=\"1\" class=\"dataframe\">\n",
       "  <thead>\n",
       "    <tr style=\"text-align: right;\">\n",
       "      <th></th>\n",
       "      <th>tipo_dato</th>\n",
       "    </tr>\n",
       "  </thead>\n",
       "  <tbody>\n",
       "    <tr>\n",
       "      <th>user_id</th>\n",
       "      <td>int64</td>\n",
       "    </tr>\n",
       "    <tr>\n",
       "      <th>test_group</th>\n",
       "      <td>object</td>\n",
       "    </tr>\n",
       "    <tr>\n",
       "      <th>converted</th>\n",
       "      <td>bool</td>\n",
       "    </tr>\n",
       "    <tr>\n",
       "      <th>total_ads</th>\n",
       "      <td>int64</td>\n",
       "    </tr>\n",
       "    <tr>\n",
       "      <th>most_ads_day</th>\n",
       "      <td>object</td>\n",
       "    </tr>\n",
       "    <tr>\n",
       "      <th>most_ads_hour</th>\n",
       "      <td>int64</td>\n",
       "    </tr>\n",
       "  </tbody>\n",
       "</table>\n",
       "</div>"
      ],
      "text/plain": [
       "              tipo_dato\n",
       "user_id           int64\n",
       "test_group       object\n",
       "converted          bool\n",
       "total_ads         int64\n",
       "most_ads_day     object\n",
       "most_ads_hour     int64"
      ]
     },
     "metadata": {},
     "output_type": "display_data"
    },
    {
     "name": "stdout",
     "output_type": "stream",
     "text": [
      "----------------------------------------------------------------------------------------------------\n",
      "Los valores que tenemos para las columnas categóricas son:\n",
      "\n",
      " * La columna test_group tiene las siguientes valore únicos:\n"
     ]
    },
    {
     "data": {
      "text/html": [
       "<div>\n",
       "<style scoped>\n",
       "    .dataframe tbody tr th:only-of-type {\n",
       "        vertical-align: middle;\n",
       "    }\n",
       "\n",
       "    .dataframe tbody tr th {\n",
       "        vertical-align: top;\n",
       "    }\n",
       "\n",
       "    .dataframe thead th {\n",
       "        text-align: right;\n",
       "    }\n",
       "</style>\n",
       "<table border=\"1\" class=\"dataframe\">\n",
       "  <thead>\n",
       "    <tr style=\"text-align: right;\">\n",
       "      <th></th>\n",
       "      <th>count</th>\n",
       "    </tr>\n",
       "    <tr>\n",
       "      <th>test_group</th>\n",
       "      <th></th>\n",
       "    </tr>\n",
       "  </thead>\n",
       "  <tbody>\n",
       "    <tr>\n",
       "      <th>ad</th>\n",
       "      <td>564577</td>\n",
       "    </tr>\n",
       "    <tr>\n",
       "      <th>psa</th>\n",
       "      <td>23524</td>\n",
       "    </tr>\n",
       "  </tbody>\n",
       "</table>\n",
       "</div>"
      ],
      "text/plain": [
       "             count\n",
       "test_group        \n",
       "ad          564577\n",
       "psa          23524"
      ]
     },
     "metadata": {},
     "output_type": "display_data"
    },
    {
     "name": "stdout",
     "output_type": "stream",
     "text": [
      "\n",
      " * La columna most_ads_day tiene las siguientes valore únicos:\n"
     ]
    },
    {
     "data": {
      "text/html": [
       "<div>\n",
       "<style scoped>\n",
       "    .dataframe tbody tr th:only-of-type {\n",
       "        vertical-align: middle;\n",
       "    }\n",
       "\n",
       "    .dataframe tbody tr th {\n",
       "        vertical-align: top;\n",
       "    }\n",
       "\n",
       "    .dataframe thead th {\n",
       "        text-align: right;\n",
       "    }\n",
       "</style>\n",
       "<table border=\"1\" class=\"dataframe\">\n",
       "  <thead>\n",
       "    <tr style=\"text-align: right;\">\n",
       "      <th></th>\n",
       "      <th>count</th>\n",
       "    </tr>\n",
       "    <tr>\n",
       "      <th>most_ads_day</th>\n",
       "      <th></th>\n",
       "    </tr>\n",
       "  </thead>\n",
       "  <tbody>\n",
       "    <tr>\n",
       "      <th>Friday</th>\n",
       "      <td>92608</td>\n",
       "    </tr>\n",
       "    <tr>\n",
       "      <th>Monday</th>\n",
       "      <td>87073</td>\n",
       "    </tr>\n",
       "    <tr>\n",
       "      <th>Sunday</th>\n",
       "      <td>85391</td>\n",
       "    </tr>\n",
       "    <tr>\n",
       "      <th>Thursday</th>\n",
       "      <td>82982</td>\n",
       "    </tr>\n",
       "    <tr>\n",
       "      <th>Saturday</th>\n",
       "      <td>81660</td>\n",
       "    </tr>\n",
       "    <tr>\n",
       "      <th>Wednesday</th>\n",
       "      <td>80908</td>\n",
       "    </tr>\n",
       "    <tr>\n",
       "      <th>Tuesday</th>\n",
       "      <td>77479</td>\n",
       "    </tr>\n",
       "  </tbody>\n",
       "</table>\n",
       "</div>"
      ],
      "text/plain": [
       "              count\n",
       "most_ads_day       \n",
       "Friday        92608\n",
       "Monday        87073\n",
       "Sunday        85391\n",
       "Thursday      82982\n",
       "Saturday      81660\n",
       "Wednesday     80908\n",
       "Tuesday       77479"
      ]
     },
     "metadata": {},
     "output_type": "display_data"
    },
    {
     "name": "stdout",
     "output_type": "stream",
     "text": [
      "----------------------------------------------------------------------------------------------------\n",
      "Los principales estadísticos de las columnas categóricas para AD son: \n"
     ]
    },
    {
     "data": {
      "text/html": [
       "<div>\n",
       "<style scoped>\n",
       "    .dataframe tbody tr th:only-of-type {\n",
       "        vertical-align: middle;\n",
       "    }\n",
       "\n",
       "    .dataframe tbody tr th {\n",
       "        vertical-align: top;\n",
       "    }\n",
       "\n",
       "    .dataframe thead th {\n",
       "        text-align: right;\n",
       "    }\n",
       "</style>\n",
       "<table border=\"1\" class=\"dataframe\">\n",
       "  <thead>\n",
       "    <tr style=\"text-align: right;\">\n",
       "      <th></th>\n",
       "      <th>count</th>\n",
       "      <th>unique</th>\n",
       "      <th>top</th>\n",
       "      <th>freq</th>\n",
       "    </tr>\n",
       "  </thead>\n",
       "  <tbody>\n",
       "    <tr>\n",
       "      <th>test_group</th>\n",
       "      <td>564577</td>\n",
       "      <td>1</td>\n",
       "      <td>ad</td>\n",
       "      <td>564577</td>\n",
       "    </tr>\n",
       "    <tr>\n",
       "      <th>most_ads_day</th>\n",
       "      <td>564577</td>\n",
       "      <td>7</td>\n",
       "      <td>Friday</td>\n",
       "      <td>88805</td>\n",
       "    </tr>\n",
       "  </tbody>\n",
       "</table>\n",
       "</div>"
      ],
      "text/plain": [
       "               count unique     top    freq\n",
       "test_group    564577      1      ad  564577\n",
       "most_ads_day  564577      7  Friday   88805"
      ]
     },
     "metadata": {},
     "output_type": "display_data"
    },
    {
     "name": "stdout",
     "output_type": "stream",
     "text": [
      "----------------------------------------------------------------------------------------------------\n",
      "Los principales estadísticos de las columnas numéricas para el AD son: \n"
     ]
    },
    {
     "data": {
      "text/html": [
       "<div>\n",
       "<style scoped>\n",
       "    .dataframe tbody tr th:only-of-type {\n",
       "        vertical-align: middle;\n",
       "    }\n",
       "\n",
       "    .dataframe tbody tr th {\n",
       "        vertical-align: top;\n",
       "    }\n",
       "\n",
       "    .dataframe thead th {\n",
       "        text-align: right;\n",
       "    }\n",
       "</style>\n",
       "<table border=\"1\" class=\"dataframe\">\n",
       "  <thead>\n",
       "    <tr style=\"text-align: right;\">\n",
       "      <th></th>\n",
       "      <th>count</th>\n",
       "      <th>mean</th>\n",
       "      <th>std</th>\n",
       "      <th>min</th>\n",
       "      <th>25%</th>\n",
       "      <th>50%</th>\n",
       "      <th>75%</th>\n",
       "      <th>max</th>\n",
       "    </tr>\n",
       "  </thead>\n",
       "  <tbody>\n",
       "    <tr>\n",
       "      <th>user_id</th>\n",
       "      <td>564577.0</td>\n",
       "      <td>1.327314e+06</td>\n",
       "      <td>188918.061566</td>\n",
       "      <td>1000000.0</td>\n",
       "      <td>1163686.0</td>\n",
       "      <td>1327362.0</td>\n",
       "      <td>1490914.0</td>\n",
       "      <td>1654483.0</td>\n",
       "    </tr>\n",
       "    <tr>\n",
       "      <th>total_ads</th>\n",
       "      <td>564577.0</td>\n",
       "      <td>2.482337e+01</td>\n",
       "      <td>43.750456</td>\n",
       "      <td>1.0</td>\n",
       "      <td>4.0</td>\n",
       "      <td>13.0</td>\n",
       "      <td>27.0</td>\n",
       "      <td>2065.0</td>\n",
       "    </tr>\n",
       "    <tr>\n",
       "      <th>most_ads_hour</th>\n",
       "      <td>564577.0</td>\n",
       "      <td>1.447590e+01</td>\n",
       "      <td>4.841808</td>\n",
       "      <td>0.0</td>\n",
       "      <td>11.0</td>\n",
       "      <td>14.0</td>\n",
       "      <td>18.0</td>\n",
       "      <td>23.0</td>\n",
       "    </tr>\n",
       "  </tbody>\n",
       "</table>\n",
       "</div>"
      ],
      "text/plain": [
       "                  count          mean            std        min        25%  \\\n",
       "user_id        564577.0  1.327314e+06  188918.061566  1000000.0  1163686.0   \n",
       "total_ads      564577.0  2.482337e+01      43.750456        1.0        4.0   \n",
       "most_ads_hour  564577.0  1.447590e+01       4.841808        0.0       11.0   \n",
       "\n",
       "                     50%        75%        max  \n",
       "user_id        1327362.0  1490914.0  1654483.0  \n",
       "total_ads           13.0       27.0     2065.0  \n",
       "most_ads_hour       14.0       18.0       23.0  "
      ]
     },
     "metadata": {},
     "output_type": "display_data"
    },
    {
     "name": "stdout",
     "output_type": "stream",
     "text": [
      "----------------------------------------------------------------------------------------------------\n",
      "Los principales estadísticos de las columnas categóricas para PSA son: \n"
     ]
    },
    {
     "data": {
      "text/html": [
       "<div>\n",
       "<style scoped>\n",
       "    .dataframe tbody tr th:only-of-type {\n",
       "        vertical-align: middle;\n",
       "    }\n",
       "\n",
       "    .dataframe tbody tr th {\n",
       "        vertical-align: top;\n",
       "    }\n",
       "\n",
       "    .dataframe thead th {\n",
       "        text-align: right;\n",
       "    }\n",
       "</style>\n",
       "<table border=\"1\" class=\"dataframe\">\n",
       "  <thead>\n",
       "    <tr style=\"text-align: right;\">\n",
       "      <th></th>\n",
       "      <th>count</th>\n",
       "      <th>unique</th>\n",
       "      <th>top</th>\n",
       "      <th>freq</th>\n",
       "    </tr>\n",
       "  </thead>\n",
       "  <tbody>\n",
       "    <tr>\n",
       "      <th>test_group</th>\n",
       "      <td>23524</td>\n",
       "      <td>1</td>\n",
       "      <td>psa</td>\n",
       "      <td>23524</td>\n",
       "    </tr>\n",
       "    <tr>\n",
       "      <th>most_ads_day</th>\n",
       "      <td>23524</td>\n",
       "      <td>7</td>\n",
       "      <td>Thursday</td>\n",
       "      <td>3905</td>\n",
       "    </tr>\n",
       "  </tbody>\n",
       "</table>\n",
       "</div>"
      ],
      "text/plain": [
       "              count unique       top   freq\n",
       "test_group    23524      1       psa  23524\n",
       "most_ads_day  23524      7  Thursday   3905"
      ]
     },
     "metadata": {},
     "output_type": "display_data"
    },
    {
     "name": "stdout",
     "output_type": "stream",
     "text": [
      "----------------------------------------------------------------------------------------------------\n",
      "Los principales estadísticos de las columnas numéricas para el PSA son: \n"
     ]
    },
    {
     "data": {
      "text/html": [
       "<div>\n",
       "<style scoped>\n",
       "    .dataframe tbody tr th:only-of-type {\n",
       "        vertical-align: middle;\n",
       "    }\n",
       "\n",
       "    .dataframe tbody tr th {\n",
       "        vertical-align: top;\n",
       "    }\n",
       "\n",
       "    .dataframe thead th {\n",
       "        text-align: right;\n",
       "    }\n",
       "</style>\n",
       "<table border=\"1\" class=\"dataframe\">\n",
       "  <thead>\n",
       "    <tr style=\"text-align: right;\">\n",
       "      <th></th>\n",
       "      <th>count</th>\n",
       "      <th>mean</th>\n",
       "      <th>std</th>\n",
       "      <th>min</th>\n",
       "      <th>25%</th>\n",
       "      <th>50%</th>\n",
       "      <th>75%</th>\n",
       "      <th>max</th>\n",
       "    </tr>\n",
       "  </thead>\n",
       "  <tbody>\n",
       "    <tr>\n",
       "      <th>user_id</th>\n",
       "      <td>23524.0</td>\n",
       "      <td>911761.500000</td>\n",
       "      <td>6790.938202</td>\n",
       "      <td>900000.0</td>\n",
       "      <td>905880.75</td>\n",
       "      <td>911761.5</td>\n",
       "      <td>917642.25</td>\n",
       "      <td>923523.0</td>\n",
       "    </tr>\n",
       "    <tr>\n",
       "      <th>total_ads</th>\n",
       "      <td>23524.0</td>\n",
       "      <td>24.761138</td>\n",
       "      <td>42.860720</td>\n",
       "      <td>1.0</td>\n",
       "      <td>4.00</td>\n",
       "      <td>12.0</td>\n",
       "      <td>26.00</td>\n",
       "      <td>907.0</td>\n",
       "    </tr>\n",
       "    <tr>\n",
       "      <th>most_ads_hour</th>\n",
       "      <td>23524.0</td>\n",
       "      <td>14.304923</td>\n",
       "      <td>4.656239</td>\n",
       "      <td>0.0</td>\n",
       "      <td>11.00</td>\n",
       "      <td>14.0</td>\n",
       "      <td>18.00</td>\n",
       "      <td>23.0</td>\n",
       "    </tr>\n",
       "  </tbody>\n",
       "</table>\n",
       "</div>"
      ],
      "text/plain": [
       "                 count           mean          std       min        25%  \\\n",
       "user_id        23524.0  911761.500000  6790.938202  900000.0  905880.75   \n",
       "total_ads      23524.0      24.761138    42.860720       1.0       4.00   \n",
       "most_ads_hour  23524.0      14.304923     4.656239       0.0      11.00   \n",
       "\n",
       "                    50%        75%       max  \n",
       "user_id        911761.5  917642.25  923523.0  \n",
       "total_ads          12.0      26.00     907.0  \n",
       "most_ads_hour      14.0      18.00      23.0  "
      ]
     },
     "metadata": {},
     "output_type": "display_data"
    }
   ],
   "source": [
    "# Nuestra columna control será test_group\n",
    "exploracion_dataframe(df,\"test_group\")"
   ]
  },
  {
   "cell_type": "code",
   "execution_count": 7,
   "metadata": {},
   "outputs": [],
   "source": [
    "# según lo anterior no tenemos nulos ni duplicados"
   ]
  },
  {
   "cell_type": "code",
   "execution_count": 8,
   "metadata": {},
   "outputs": [
    {
     "data": {
      "text/html": [
       "<div>\n",
       "<style scoped>\n",
       "    .dataframe tbody tr th:only-of-type {\n",
       "        vertical-align: middle;\n",
       "    }\n",
       "\n",
       "    .dataframe tbody tr th {\n",
       "        vertical-align: top;\n",
       "    }\n",
       "\n",
       "    .dataframe thead th {\n",
       "        text-align: right;\n",
       "    }\n",
       "</style>\n",
       "<table border=\"1\" class=\"dataframe\">\n",
       "  <thead>\n",
       "    <tr style=\"text-align: right;\">\n",
       "      <th></th>\n",
       "      <th>user_id</th>\n",
       "      <th>test_group</th>\n",
       "      <th>converted</th>\n",
       "      <th>total_ads</th>\n",
       "      <th>most_ads_day</th>\n",
       "      <th>most_ads_hour</th>\n",
       "    </tr>\n",
       "  </thead>\n",
       "  <tbody>\n",
       "    <tr>\n",
       "      <th>0</th>\n",
       "      <td>1069124</td>\n",
       "      <td>ad</td>\n",
       "      <td>0</td>\n",
       "      <td>130</td>\n",
       "      <td>Monday</td>\n",
       "      <td>20</td>\n",
       "    </tr>\n",
       "    <tr>\n",
       "      <th>1</th>\n",
       "      <td>1119715</td>\n",
       "      <td>ad</td>\n",
       "      <td>0</td>\n",
       "      <td>93</td>\n",
       "      <td>Tuesday</td>\n",
       "      <td>22</td>\n",
       "    </tr>\n",
       "    <tr>\n",
       "      <th>2</th>\n",
       "      <td>1144181</td>\n",
       "      <td>ad</td>\n",
       "      <td>0</td>\n",
       "      <td>21</td>\n",
       "      <td>Tuesday</td>\n",
       "      <td>18</td>\n",
       "    </tr>\n",
       "    <tr>\n",
       "      <th>3</th>\n",
       "      <td>1435133</td>\n",
       "      <td>ad</td>\n",
       "      <td>0</td>\n",
       "      <td>355</td>\n",
       "      <td>Tuesday</td>\n",
       "      <td>10</td>\n",
       "    </tr>\n",
       "    <tr>\n",
       "      <th>4</th>\n",
       "      <td>1015700</td>\n",
       "      <td>ad</td>\n",
       "      <td>0</td>\n",
       "      <td>276</td>\n",
       "      <td>Friday</td>\n",
       "      <td>14</td>\n",
       "    </tr>\n",
       "  </tbody>\n",
       "</table>\n",
       "</div>"
      ],
      "text/plain": [
       "   user_id test_group  converted  total_ads most_ads_day  most_ads_hour\n",
       "0  1069124         ad          0        130       Monday             20\n",
       "1  1119715         ad          0         93      Tuesday             22\n",
       "2  1144181         ad          0         21      Tuesday             18\n",
       "3  1435133         ad          0        355      Tuesday             10\n",
       "4  1015700         ad          0        276       Friday             14"
      ]
     },
     "execution_count": 8,
     "metadata": {},
     "output_type": "execute_result"
    }
   ],
   "source": [
    "# el tipo de dato de la columna 'converted' es \"bool\".\n",
    "# lo convertimos a 0 y 1 para poder realizar nuestro A-B testing\n",
    "\n",
    "# Diccionario para reemplazar True por 1 y False por 0\n",
    "reemplazo = {True: 1, False: 0}\n",
    "\n",
    "# Aplicar el reemplazo a la columna 'converted'\n",
    "df['converted'] = df['converted'].replace(reemplazo)\n",
    "df.head()"
   ]
  },
  {
   "cell_type": "markdown",
   "metadata": {},
   "source": [
    "### 1.2 Definición de las hipótesis:\n",
    "> - **Hipótesis nula (H0)**: No hay diferencia significativa en la tasa de conversión entre los grupos de prueba \"ad\" y \"psa\".\n",
    "\n",
    "> - **Hipótesis alternativa (H1)**: Existe una diferencia significativa en la tasa de conversión entre los grupos de prueba \"ad\" y \"psa\"."
   ]
  },
  {
   "cell_type": "markdown",
   "metadata": {},
   "source": [
    "### 1.3 Cálculo de la tasa de conversión: \n",
    "\n",
    "Calcula la **tasa de conversión** para cada grupo:\n",
    "\n",
    " - Para el grupo \"ad\", la tasa de conversión es el **número de usuarios convertidos** dividido por el **número total de usuarios en ese grupo**.\n",
    "\n",
    " - Para el grupo \"psa\", la tasa de conversión es el **número de usuarios convertidos** dividido por el **número total de usuarios en ese grupo**."
   ]
  },
  {
   "cell_type": "code",
   "execution_count": 9,
   "metadata": {},
   "outputs": [
    {
     "name": "stdout",
     "output_type": "stream",
     "text": [
      "Tasa de conversión CR para el grupo 'ad': 2.55%\n",
      "Tasa de conversión CR para el grupo 'psa': 1.79%\n"
     ]
    }
   ],
   "source": [
    "# en la columna modificada 'converted' tenemos 1 = True, lo que nos facilita los cálculos\n",
    "\n",
    "# según lo anterior, calculamos la tasa de conversión CR para cada grupo\n",
    "\n",
    "# Filtrar datos por el grupo 'ad' y 'psa'\n",
    "df_ad = df[df['test_group'] == 'ad']\n",
    "df_psa = df[df['test_group'] == 'psa']\n",
    "\n",
    "# Calcular la tasa de conversión para el grupo 'ad'\n",
    "conversion_ad = df_ad['converted'].sum() / len(df_ad)\n",
    "tasa_conversion_ad = round(conversion_ad * 100, 2)\n",
    "print(f\"Tasa de conversión CR para el grupo 'ad': {tasa_conversion_ad:.2f}%\")\n",
    "\n",
    "# Calcular la tasa de conversión para el grupo 'psa'\n",
    "conversion_psa = df_psa['converted'].sum() / len(df_psa)\n",
    "tasa_conversion_psa = round(conversion_psa * 100, 2)\n",
    "print(f\"Tasa de conversión CR para el grupo 'psa': {tasa_conversion_psa:.2f}%\")"
   ]
  },
  {
   "cell_type": "markdown",
   "metadata": {},
   "source": [
    "### 1.4 Prueba de hipótesis:\n",
    "Utiliza una prueba estadística, como la prueba <span style=\"color:#D4AF37\"> t de Student</span> o la prueba <span style=\"color:#D4AF37\">chi-cuadrado</span>, para comparar las tasas de conversión entre los grupos \"ad\" y \"psa\"."
   ]
  },
  {
   "cell_type": "code",
   "execution_count": 10,
   "metadata": {},
   "outputs": [
    {
     "name": "stdout",
     "output_type": "stream",
     "text": [
      "El tamaño de la muestra es de 588101 registros, por lo que utilizaremos la Prueba de Proporciones (chi2-contingency).\n",
      "Además, queremos comparar la Tasa de Conversión por grupo, dato que expresa proporciones\n"
     ]
    }
   ],
   "source": [
    "# Recordamos el tamaño de la muestra\n",
    "num_filas, num_columnas = df.shape\n",
    "\n",
    "print(f\"El tamaño de la muestra es de {num_filas} registros, por lo que utilizaremos la Prueba de Proporciones (chi2-contingency).\\nAdemás, queremos comparar la Tasa de Conversión por grupo, dato que expresa proporciones\")"
   ]
  },
  {
   "cell_type": "code",
   "execution_count": 11,
   "metadata": {},
   "outputs": [
    {
     "data": {
      "image/png": "[encoded data removed]",
      "text/plain": [
       "<Figure size 1000x600 with 1 Axes>"
      ]
     },
     "metadata": {},
     "output_type": "display_data"
    }
   ],
   "source": [
    "# Vamos a realizar un análisis visual previo\n",
    "# Recordamos la modificación de los valores de la columna \"converted\" (1 == True , 0 == False)\n",
    "\n",
    "# Crear gráfico de barras para la Tasa de Conversión (CR)\n",
    "fig, axes = plt.subplots(nrows=1, ncols=1, figsize=(10, 6))\n",
    "\n",
    "# Definir colores para las barras\n",
    "colores = {'ad': 'gold', 'psa': 'lightcoral'}\n",
    "\n",
    "# Gráfico Tasa de Conversión\n",
    "sns.barplot(x=\"test_group\", y=\"converted\", data=df, ax=axes, palette=colores)\n",
    "\n",
    "# Configuración de los títulos\n",
    "axes.set_title(\"Tasa de Conversión\", fontsize=16, fontweight='bold', pad=20)\n",
    "axes.set_xlabel(\"Grupo de Test\", fontsize=14, fontweight='bold')\n",
    "axes.set_ylabel(\"Tasa de Conversión\", fontsize=14, fontweight='bold')\n",
    "\n",
    "plt.show()"
   ]
  },
  {
   "cell_type": "markdown",
   "metadata": {},
   "source": [
    "> **CONCLUSIONES**: Los datos mostrados en la gráfica sugieren que la tasa de conversión de anuncio original es mayor que el anuncio nuevo. Esto sugiere que la proporción de usuarios que realizan una compra efectiva es mayor cuando visionan el anuncio original."
   ]
  },
  {
   "cell_type": "code",
   "execution_count": 17,
   "metadata": {},
   "outputs": [],
   "source": [
    "#Creamos una función para el cálculo del Test de chi-cuadrado\n",
    "def test_chi2(column1, column2):\n",
    "\n",
    "    # Crear una tabla de contingencia\n",
    "    contingency_table = pd.crosstab(column1, column2)\n",
    "\n",
    "    # Ejecutar el test de chi-cuadrado\n",
    "    chi2, p_valor, _, _ = chi2_contingency(contingency_table)\n",
    "\n",
    "    # Mostrar los resultados del test\n",
    "    print(\"\\nResultados del test de Chi-cuadrado:\")\n",
    "    print(f\"Estadística de Chi-cuadrado: {chi2}\")\n",
    "    print(f\"P-valor: {p_valor}\")\n",
    "\n",
    "    # Interpretación del resultado\n",
    "    alpha = 0.05  # Nivel de significancia\n",
    "    if p_valor < alpha:\n",
    "        print(\"\\nExiste una diferencia significativa en la tasa de conversión entre el grupo ad y el psa. \\n Los resultados sugieren que existe evidencia estadística para afirmar que las medias de las muestras son distintas.\\n Según esto, nuestro nuevo anuncio no tiene los efectos deseados y no deberíamos cambiar a la nueva versión de anuncios\")\n",
    "    \n",
    "    else:\n",
    "        print(\"\\nNo existe suficiente evidencia entre la tasa de conversión de los dos grupos.\\n Los resultados sugieren que no existe evidencia estadística para afirmar que las medias de las muestras son distintas, por lo que la nueva campaña no está consiguiendo mayor tasa de conversión que la campaña anterior.\")"
   ]
  },
  {
   "cell_type": "markdown",
   "metadata": {},
   "source": [
    "### 1.5 Análisis de resultados:\n",
    "\n",
    " - Si el valor <span style=\"color:#D4AF37\">p es menor que un umbral predefinido (por ejemplo, 0.05)</span>, rechazamos la hipótesis nula y concluimos que hay una diferencia significativa en las tasas de conversión entre los grupos.\n",
    " - Si el valor <span style=\"color:#D4AF37\">p es mayor que el umbral</span>, no podemos rechazar la hipótesis nula y concluimos que no hay evidencia suficiente para afirmar que hay una diferencia significativa."
   ]
  },
  {
   "cell_type": "code",
   "execution_count": 18,
   "metadata": {},
   "outputs": [
    {
     "name": "stdout",
     "output_type": "stream",
     "text": [
      "\n",
      "Resultados del test de Chi-cuadrado:\n",
      "Estadística de Chi-cuadrado: 54.005823883685245\n",
      "P-valor: 1.9989623063390075e-13\n",
      "\n",
      "Existe una diferencia significativa en la tasa de conversión entre el grupo ad y el psa. \n",
      " Los resultados sugieren que existe evidencia estadística para afirmar que las medias de las muestras son distintas.\n",
      " Según esto, nuestro nuevo anuncio no tiene los efectos deseados y no deberíamos cambiar a la nueva versión de anuncios\n"
     ]
    }
   ],
   "source": [
    "test_chi2(df['converted'], df['test_group'])"
   ]
  },
  {
   "cell_type": "markdown",
   "metadata": {},
   "source": [
    "### 1.6 Conclusiones y recomendaciones: \n",
    "\n",
    "Basándote en los resultados de la prueba de hipótesis, llega a una <span style=\"color:#D4AF37\">conclusión sobre si el nuevo diseño de anuncio es más efectivo en la conversión de usuarios </span>que el diseño anterior. \n",
    "\n",
    "Si es así, puedes hacer <span style=\"color:#D4AF37\">recomendaciones basadas en estos hallazgos</span>."
   ]
  },
  {
   "cell_type": "markdown",
   "metadata": {},
   "source": [
    "> CONCLUSIÓN: el análisis estadístico sugiere la validez de la **Hipótesis alternativa (H1)** que postula que existe una diferencia significativa en la tasa de conversión entre los grupos de prueba \"ad\" y \"psa\".\n",
    "Basándonos en este estudio, "
   ]
  },
  {
   "cell_type": "markdown",
   "metadata": {},
   "source": [
    "## Ejercicio 2:\n",
    "Comparar la cantidad promedio de anuncios vistos por los usuarios en los grupos \"ad\" y \"psa\" y determinar si hay una diferencia significativa entre ellos."
   ]
  },
  {
   "cell_type": "markdown",
   "metadata": {},
   "source": [
    "### Objetivo del experimento: \n",
    "Comparar la cantidad promedio de anuncios vistos por usuario entre los grupos de prueba \"ad\" y \"psa\" para determinar si el tipo de anuncio afecta la cantidad de anuncios que los usuarios ven."
   ]
  },
  {
   "cell_type": "markdown",
   "metadata": {},
   "source": [
    "### Preparación de los datos: \n",
    "Asegúrate de que los datos estén limpios y listos para el análisis. Esto incluye la eliminación de datos faltantes y la verificación de la coherencia de los datos."
   ]
  },
  {
   "cell_type": "markdown",
   "metadata": {},
   "source": [
    "### Hipótesis: \n",
    "Plantea una hipótesis nula (H0) y una hipótesis alternativa (H1) para el experimento. En este caso, las deberéis plantear vosotras"
   ]
  },
  {
   "cell_type": "markdown",
   "metadata": {},
   "source": [
    "<span style=\"color:#D4AF37\"> **Hipótesis nula H0**</span>: No existe diferencia significativa entre la cantidad promedio de anuncios vitos por los usuarios en los grupos \"ad\" y \"psa\"\n",
    "\n",
    "<span style=\"color:#D4AF37\"> **Hipótesis alternativa H1**</span>: Existe diferencia significativa entre la cantidad promedio de anuncios vitos por los usuarios en los grupos \"ad\" y \"psa\""
   ]
  },
  {
   "cell_type": "markdown",
   "metadata": {},
   "source": [
    "### Análisis de resultados:\n",
    " - Si el valor p (p-value) es menor que un umbral predefinido (por ejemplo, 0.05), rechazamos la hipótesis nula y concluimos que hay una diferencia significativa en la cantidad promedio de anuncios vistos por usuario entre los grupos.\n",
    " - Si el valor p es mayor que el umbral, no podemos rechazar la hipótesis nula y concluimos que no hay evidencia suficiente para afirmar que hay una diferencia significativa."
   ]
  },
  {
   "cell_type": "markdown",
   "metadata": {},
   "source": [
    "### Conclusiones y recomendaciones:\n",
    " - Basándote en los resultados de la prueba de hipótesis, llega a una conclusión sobre si el tipo de anuncio (ad o psa) tiene un impacto significativo en la cantidad promedio de anuncios vistos por usuario.\n",
    " - Si es así, puedes hacer recomendaciones basadas en estos hallazgos."
   ]
  },
  {
   "cell_type": "markdown",
   "metadata": {},
   "source": [
    "Antes de realizar el test estadístico correspondiente, analizamos si nuestros datos cumplen con los supuestos de:\n",
    "- Normalidad\n",
    "\n",
    "- Homogeneidad de varianzas\n",
    "\n",
    "- Independecia de las observaciones"
   ]
  },
  {
   "cell_type": "code",
   "execution_count": 14,
   "metadata": {},
   "outputs": [
    {
     "name": "stdout",
     "output_type": "stream",
     "text": [
      "Número de muestras en el grupo 'ad': 564577\n",
      "Número de muestras en el grupo 'psa': 23524\n"
     ]
    }
   ],
   "source": [
    "# Verificar el número de muestras en cada grupo\n",
    "print(\"Número de muestras en el grupo 'ad':\", len(df_ad))\n",
    "print(\"Número de muestras en el grupo 'psa':\", len(df_psa))"
   ]
  },
  {
   "cell_type": "markdown",
   "metadata": {},
   "source": [
    "> Por un lado, la <span style=\"color:#D4AF37\">**prueba de homogeneidad de varianzas**</span> es más útil cuando se comparan grupos con tamaños de muestra de tamaños similares.\n",
    "> Al ser el número de muestras del grupo \"ad\" mucho mayor que el del grupo \"psa\", vamos a utilizar la <span style=\"color:#D4AF37\">**prueba de Fligner-Killeen**</span> en lugar de la prueba de Levene.\n",
    "> La prueba de Fligner-Killeen <span style=\"color:#D4AF37\">**es menos sensible a desviaciones de la normalidad**</span> y puede ser más apropiada cuando las muestras tienen diferentes tamaños."
   ]
  },
  {
   "cell_type": "markdown",
   "metadata": {},
   "source": [
    "> Dado que el número de muestras es grande, <span style=\"color:#D4AF37\">descartamos realizar la prueba estadística t</span>"
   ]
  },
  {
   "cell_type": "code",
   "execution_count": 15,
   "metadata": {},
   "outputs": [],
   "source": [
    "# creamos una clase para realizar todos los cálculos a la vez\n",
    "\n",
    "# Crear la clase Data_Analysis\n",
    "class Data_Analysis:\n",
    "    @staticmethod\n",
    "    def normalidad(dataframe, columna, grupo):\n",
    "        statistic, p_value = stats.shapiro(dataframe[columna])\n",
    "        if p_value > 0.05:\n",
    "            print(f\"Para el grupo '{grupo}', los datos en la columna '{columna}' siguen una distribución normal.\")\n",
    "            print(f'{grupo}')\n",
    "        else:\n",
    "            print(f\"Para el grupo '{grupo}', los datos en la columna '{columna}' no siguen una distribución normal.\")\n",
    "            print(f'{grupo}')\n",
    "    \"\"\"\n",
    "    @staticmethod\n",
    "    def homogeneidad_levene(dataframe, columna, columna_metrica):\n",
    "        valores_evaluar = []\n",
    "        for valor in dataframe[columna].unique():\n",
    "            valores_evaluar.append(dataframe[dataframe[columna] == valor][columna_metrica])\n",
    "\n",
    "        statistic, p_value = stats.levene(*valores_evaluar)\n",
    "        if p_value > 0.05:\n",
    "            print(f\"Para la métrica {columna_metrica}, las varianzas son homogéneas entre grupos.\")\n",
    "        else:\n",
    "            print(f\"Para la métrica {columna_metrica}, las varianzas no son homogéneas entre grupos.\")\n",
    "    \"\"\"\n",
    "    \n",
    "    @staticmethod\n",
    "    def homogeneidad_fligner (dataframe, columna, nombre_columna_grupo, control_group, test_group):\n",
    "        # Filtrar el DataFrame para obtener los grupos específicos\n",
    "        df_control_group = dataframe[dataframe[nombre_columna_grupo] == control_group]\n",
    "        df_test_group = dataframe[dataframe[nombre_columna_grupo] == test_group]\n",
    "\n",
    "        # Ejecutar la prueba de Fligner-Killeen\n",
    "        statistic, p_value = fligner(df_control_group[columna], df_test_group[columna])\n",
    "\n",
    "        # Mostrar los resultados\n",
    "        if p_value > 0.05:\n",
    "            print(\"Las varianzas son homogéneas entre los grupos.\")\n",
    "        else:\n",
    "            print(\"Las varianzas no son homogéneas entre los grupos.\")\n",
    "        print(f\"Estadístico de la prueba: {statistic}, p-valor: {p_value}\")\n",
    "\n",
    "    @staticmethod\n",
    "    def visualizar_matriz_correlacion(dataframe, nombre_columna_grupo):\n",
    "        # Filtrar el DataFrame para cada grupo\n",
    "        control_group = dataframe[dataframe[nombre_columna_grupo] == 'ad']\n",
    "        test_group = dataframe[dataframe[nombre_columna_grupo] == 'psa']\n",
    "\n",
    "        # Calcular la matriz de correlación para cada grupo\n",
    "        correlacion_matrix_grupo1 = control_group.corr(numeric_only=True)\n",
    "        correlacion_matrix_grupo2 = test_group.corr(numeric_only=True)\n",
    "\n",
    "        # Crear el heatmap para cada grupo\n",
    "        sns.heatmap(correlacion_matrix_grupo1, annot=True, cmap=\"cubehelix\", fmt=\".2f\")\n",
    "        plt.title(f\"Matriz de Correlación para grupo ad\")\n",
    "        plt.show()\n",
    "\n",
    "        sns.heatmap(correlacion_matrix_grupo2, annot=True, cmap=\"cubehelix\", fmt=\".2f\")\n",
    "        plt.title(f\"Matriz de Correlación para grupo psa\")\n",
    "        plt.show()\n",
    "\n",
    "    @staticmethod\n",
    "    def prueba_chi_cuadrado(dataframe, columna1, columna2):\n",
    "        contingency_table = pd.crosstab(dataframe[columna1], dataframe[columna2])\n",
    "        chi2, p_chi2, _, _ = chi2_contingency(contingency_table)\n",
    "        print(f\"Prueba de Chi-cuadrado - p-valor: {p_chi2}\")\n",
    "    \n",
    "    \n",
    "    @staticmethod\n",
    "\n",
    "    def prueba_t(dataframe, nombre_columna_grupo, columna_prueba):\n",
    "        # Filtrar el dataframe para obtener el grupo de control y el grupo de prueba\n",
    "        control_group = dataframe[dataframe[nombre_columna_grupo] == 'ad'][columna_prueba]\n",
    "        test_group = dataframe[dataframe[nombre_columna_grupo] == 'psa'][columna_prueba]\n",
    "        \n",
    "        # Realizar la prueba t de independencia\n",
    "        t_stat, p_ttest = ttest_ind(control_group, test_group, equal_var=False)  # Se asume varianzas no iguales\n",
    "        \n",
    "        # Imprimir el resultado\n",
    "        print(f\"Prueba t para la tasa de conversión entre el anuncio original y el nuevo arroja un p-valor: {p_ttest}\")\n",
    "\n"
   ]
  },
  {
   "cell_type": "code",
   "execution_count": 16,
   "metadata": {},
   "outputs": [
    {
     "name": "stdout",
     "output_type": "stream",
     "text": [
      "Para el grupo 'ad', los datos en la columna 'converted' no siguen una distribución normal.\n",
      "ad\n",
      "Para el grupo 'psa', los datos en la columna 'converted' no siguen una distribución normal.\n",
      "psa\n"
     ]
    },
    {
     "name": "stdout",
     "output_type": "stream",
     "text": [
      "Las varianzas no son homogéneas entre los grupos.\n",
      "Estadístico de la prueba: 54.317959229610764, p-valor: 1.705360870194379e-13\n"
     ]
    },
    {
     "data": {
      "image/png": "[encoded data removed]",
      "text/plain": [
       "<Figure size 640x480 with 2 Axes>"
      ]
     },
     "metadata": {},
     "output_type": "display_data"
    },
    {
     "data": {
      "image/png": "[encoded data removed]",
      "text/plain": [
       "<Figure size 640x480 with 2 Axes>"
      ]
     },
     "metadata": {},
     "output_type": "display_data"
    },
    {
     "name": "stdout",
     "output_type": "stream",
     "text": [
      "Prueba de Chi-cuadrado - p-valor: 1.9989623063390075e-13\n",
      "Prueba t para la tasa de conversión entre el anuncio original y el nuevo arroja un p-valor: 5.107607598758945e-18\n"
     ]
    }
   ],
   "source": [
    "# Aplicamos las funciones de la clase a nuestros datos\n",
    "\n",
    "# Filtrar por grupos 'ad' y 'psa'\n",
    "df_ad = df[df['test_group'] == 'ad']\n",
    "df_psa = df[df['test_group'] == 'psa']\n",
    "\n",
    "# Instanciar la clase Data_Analysis\n",
    "analisis = Data_Analysis()\n",
    "\n",
    "# Ejecutar cada función de la clase Data_Analysis con los datos filtrados\n",
    "analisis.normalidad(df, 'converted', 'ad')\n",
    "analisis.normalidad(df, 'converted', 'psa')\n",
    "\n",
    "\"\"\"\n",
    "analisis.homogeneidad_levene(df_ad, 'test_group', 'converted')\n",
    "analisis.homogeneidad_levene(df_psa, 'test_group', 'converted')\n",
    "\"\"\"\n",
    "\n",
    "analisis.homogeneidad_fligner(df, 'converted', 'test_group', 'ad', 'psa')\n",
    "\n",
    "analisis.visualizar_matriz_correlacion(df, 'test_group')\n",
    "\n",
    "analisis.prueba_chi_cuadrado(df, 'test_group', 'converted')\n",
    "\n",
    "# Llamar a la función con los parámetros adecuados\n",
    "analisis.prueba_t(df, 'test_group', 'converted')\n"
   ]
  }
 ],
 "metadata": {
  "kernelspec": {
   "display_name": "Python 3",
   "language": "python",
   "name": "python3"
  },
  "language_info": {
   "codemirror_mode": {
    "name": "ipython",
    "version": 3
   },
   "file_extension": ".py",
   "mimetype": "text/x-python",
   "name": "python",
   "nbconvert_exporter": "python",
   "pygments_lexer": "ipython3",
   "version": "3.12.0"
  }
 },
 "nbformat": 4,
 "nbformat_minor": 2
}
